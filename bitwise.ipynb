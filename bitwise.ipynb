{
 "cells": [
  {
   "cell_type": "code",
   "execution_count": 4,
   "metadata": {},
   "outputs": [
    {
     "name": "stdout",
     "output_type": "stream",
     "text": [
      "0001\n"
     ]
    }
   ],
   "source": [
    "serverId = 1\n",
    "print(format(serverId, '04b')) # use 4 bits to store serverID (max 16 servers)"
   ]
  },
  {
   "cell_type": "code",
   "execution_count": 5,
   "metadata": {},
   "outputs": [
    {
     "name": "stdout",
     "output_type": "stream",
     "text": [
      "000010\n"
     ]
    }
   ],
   "source": [
    "databaseId = 2\n",
    "print(format(databaseId, '06b')) # use 6 bits to store databaseId (max 64 databases)"
   ]
  },
  {
   "cell_type": "code",
   "execution_count": 6,
   "metadata": {},
   "outputs": [
    {
     "name": "stdout",
     "output_type": "stream",
     "text": [
      "00000000000000000000010110001101\n"
     ]
    }
   ],
   "source": [
    "postId=1421\n",
    "print(format(postId, '032b')) # use 32 bits to store postId"
   ]
  },
  {
   "cell_type": "code",
   "execution_count": 15,
   "metadata": {},
   "outputs": [],
   "source": [
    "# Encode: Need using 4 + 6 + 32 = 42 bits to store itemId = serverId-databaseId-postId\n",
    "itemId = (serverId << 38) | (databaseId << 32) | (postId << 0)"
   ]
  },
  {
   "cell_type": "code",
   "execution_count": 16,
   "metadata": {},
   "outputs": [
    {
     "name": "stdout",
     "output_type": "stream",
     "text": [
      "000100000000000000000000000000000000000000\n",
      "000000001000000000000000000000000000000000\n",
      "000000000000000000000000000000010110001101\n"
     ]
    }
   ],
   "source": [
    "print(format(serverId << 38, '042b'))\n",
    "print(format(databaseId << 32, '042b'))\n",
    "print(format(postId << 0, '042b'))"
   ]
  },
  {
   "cell_type": "code",
   "execution_count": 18,
   "metadata": {},
   "outputs": [
    {
     "name": "stdout",
     "output_type": "stream",
     "text": [
      "283467842957\n",
      "000100001000000000000000000000010110001101\n"
     ]
    }
   ],
   "source": [
    "print(itemId)\n",
    "print(format(itemId, '042b'))"
   ]
  },
  {
   "cell_type": "code",
   "execution_count": 39,
   "metadata": {},
   "outputs": [
    {
     "name": "stdout",
     "output_type": "stream",
     "text": [
      "1\n",
      "000000000000000000000000000000000000000001\n"
     ]
    }
   ],
   "source": [
    "decodedServerId = itemId >> 38\n",
    "print(decodedServerId)\n",
    "print(format(decodedServerId, '042b'))"
   ]
  },
  {
   "cell_type": "code",
   "execution_count": 83,
   "metadata": {},
   "outputs": [
    {
     "name": "stdout",
     "output_type": "stream",
     "text": [
      "000100001000000000000000000000010110001101\n",
      "66\n",
      "000000000000000000000000000000000001000010\n"
     ]
    }
   ],
   "source": [
    "decodedDatabaseId = itemId >> 32 & 0x3F\n",
    "print(format(itemId, '042b'))\n",
    "print(decodedDatabaseId)\n",
    "print(format(decodedDatabaseId, '042b'))"
   ]
  },
  {
   "cell_type": "code",
   "execution_count": 86,
   "metadata": {},
   "outputs": [
    {
     "name": "stdout",
     "output_type": "stream",
     "text": [
      "1421\n",
      "000000000000000000000000000000010110001101\n"
     ]
    }
   ],
   "source": [
    "decodedPostId = itemId >> 0 & 0x10BFFFFFFF\n",
    "print(decodedPostId)\n",
    "print(format(decodedPostId, '042b'))"
   ]
  },
  {
   "cell_type": "code",
   "execution_count": null,
   "metadata": {},
   "outputs": [],
   "source": []
  }
 ],
 "metadata": {
  "kernelspec": {
   "display_name": "Python 3",
   "language": "python",
   "name": "python3"
  },
  "language_info": {
   "codemirror_mode": {
    "name": "ipython",
    "version": 3
   },
   "file_extension": ".py",
   "mimetype": "text/x-python",
   "name": "python",
   "nbconvert_exporter": "python",
   "pygments_lexer": "ipython3",
   "version": "3.7.3"
  }
 },
 "nbformat": 4,
 "nbformat_minor": 2
}
