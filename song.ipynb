{
 "cells": [
  {
   "cell_type": "code",
   "execution_count": 1,
   "metadata": {},
   "outputs": [],
   "source": [
    "import numpy as np"
   ]
  },
  {
   "cell_type": "code",
   "execution_count": 1,
   "metadata": {},
   "outputs": [],
   "source": [
    "import pandas as pd"
   ]
  },
  {
   "cell_type": "code",
   "execution_count": 2,
   "metadata": {},
   "outputs": [],
   "source": [
    "data = pd.read_csv('data.csv')"
   ]
  },
  {
   "cell_type": "code",
   "execution_count": 34,
   "metadata": {},
   "outputs": [
    {
     "name": "stdout",
     "output_type": "stream",
     "text": [
      "   user  a perfect circle  abba  ac/dc  adam green  aerosmith  afi\n",
      "0     1                 0     0      0           0          0    0\n",
      "1    33                 0     0      0           1          0    0\n",
      "2    42                 0     0      0           0          0    0\n",
      "3    51                 0     0      0           0          0    0\n",
      "4    62                 0     0      0           0          0    0\n"
     ]
    }
   ],
   "source": [
    "print(data.head(5).iloc[:,0:7])"
   ]
  },
  {
   "cell_type": "code",
   "execution_count": 13,
   "metadata": {},
   "outputs": [],
   "source": [
    "song_based = data.drop('user', 1)"
   ]
  },
  {
   "cell_type": "code",
   "execution_count": 16,
   "metadata": {},
   "outputs": [
    {
     "name": "stdout",
     "output_type": "stream",
     "text": [
      "   a perfect circle  abba  ac/dc  adam green  aerosmith  afi\n",
      "0                 0     0      0           0          0    0\n",
      "1                 0     0      0           1          0    0\n",
      "2                 0     0      0           0          0    0\n",
      "3                 0     0      0           0          0    0\n",
      "4                 0     0      0           0          0    0\n"
     ]
    }
   ],
   "source": [
    "print(song_based.head(5).iloc[:,0:6])"
   ]
  },
  {
   "cell_type": "code",
   "execution_count": 20,
   "metadata": {},
   "outputs": [],
   "source": [
    "song_based_frame = pd.DataFrame(index=song_based.columns, columns=song_based.columns) # tao mot ma tran items-items"
   ]
  },
  {
   "cell_type": "code",
   "execution_count": 21,
   "metadata": {},
   "outputs": [
    {
     "name": "stdout",
     "output_type": "stream",
     "text": [
      "                 a perfect circle abba ac/dc adam green aerosmith  afi\n",
      "a perfect circle              NaN  NaN   NaN        NaN       NaN  NaN\n",
      "abba                          NaN  NaN   NaN        NaN       NaN  NaN\n",
      "ac/dc                         NaN  NaN   NaN        NaN       NaN  NaN\n",
      "adam green                    NaN  NaN   NaN        NaN       NaN  NaN\n",
      "aerosmith                     NaN  NaN   NaN        NaN       NaN  NaN\n",
      "afi                           NaN  NaN   NaN        NaN       NaN  NaN\n"
     ]
    }
   ],
   "source": [
    "print(song_based_frame.head(6).iloc[:,0:6])"
   ]
  },
  {
   "cell_type": "code",
   "execution_count": 22,
   "metadata": {},
   "outputs": [],
   "source": [
    "from scipy.spatial.distance import cosine"
   ]
  },
  {
   "cell_type": "code",
   "execution_count": 37,
   "metadata": {},
   "outputs": [
    {
     "name": "stdout",
     "output_type": "stream",
     "text": [
      "0    0\n",
      "1    0\n",
      "2    0\n",
      "3    0\n",
      "4    0\n",
      "Name: a perfect circle, dtype: int64\n"
     ]
    }
   ],
   "source": [
    "print(data.head(5).iloc[:, 1])"
   ]
  },
  {
   "cell_type": "code",
   "execution_count": 28,
   "metadata": {},
   "outputs": [],
   "source": [
    "length = len(song_based_frame.columns)\n",
    "for index in range(0, length):\n",
    "    for col in range(0, length):\n",
    "        # voi moi item trong ma tran\n",
    "        # vector du lieu cho item data.iloc[:, index]\n",
    "        # vector du lieu cho item data.iloc[:, col]\n",
    "        # do tuong tu cua 2 item tren la nghich dao cua goc cosin giua 2 vector tren \n",
    "        # = 1 - cosine(data.iloc[:, index], data.iloc[:, col])\n",
    "        song_based_frame.iloc[index, col] = 1 - cosine(data.iloc[:, index], data.iloc[:, col])"
   ]
  },
  {
   "cell_type": "code",
   "execution_count": 38,
   "metadata": {},
   "outputs": [
    {
     "name": "stdout",
     "output_type": "stream",
     "text": [
      "                 a perfect circle       abba      ac/dc adam green  aerosmith\n",
      "a perfect circle                1   0.167317    0.14403   0.230294   0.181366\n",
      "abba                     0.167317          1          0  0.0179172  0.0515539\n",
      "ac/dc                     0.14403          0          1  0.0522788  0.0250706\n",
      "adam green               0.230294  0.0179172  0.0522788          1   0.113154\n",
      "aerosmith                0.181366  0.0515539  0.0250706   0.113154          1\n"
     ]
    }
   ],
   "source": [
    "print(song_based_frame.head(5).iloc[:,0:5])"
   ]
  },
  {
   "cell_type": "code",
   "execution_count": null,
   "metadata": {},
   "outputs": [],
   "source": []
  }
 ],
 "metadata": {
  "kernelspec": {
   "display_name": "Python 3",
   "language": "python",
   "name": "python3"
  },
  "language_info": {
   "codemirror_mode": {
    "name": "ipython",
    "version": 3
   },
   "file_extension": ".py",
   "mimetype": "text/x-python",
   "name": "python",
   "nbconvert_exporter": "python",
   "pygments_lexer": "ipython3",
   "version": "3.7.3"
  }
 },
 "nbformat": 4,
 "nbformat_minor": 2
}
