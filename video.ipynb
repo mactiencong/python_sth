{
 "cells": [
  {
   "cell_type": "code",
   "execution_count": 10,
   "metadata": {},
   "outputs": [],
   "source": [
    "import pandas as pd"
   ]
  },
  {
   "cell_type": "code",
   "execution_count": 12,
   "metadata": {},
   "outputs": [],
   "source": [
    "data = pd.read_csv('video_data.csv')"
   ]
  },
  {
   "cell_type": "code",
   "execution_count": 13,
   "metadata": {},
   "outputs": [
    {
     "name": "stdout",
     "output_type": "stream",
     "text": [
      "   video_id  prop1  prop2  prop3  prop4  prop5  prop6  prop7  prop8  prop9  \\\n",
      "0         1      1      1      1      1      1      1      1      1      1   \n",
      "1         2      1      0      1      1      0      1      1      1      1   \n",
      "2         3      1      1      1      1      1      1      0      1      1   \n",
      "3         4      1      1      1      1      1      1      1      1      1   \n",
      "4         5      1      1      0      1      1      1      0      1      1   \n",
      "5         6      1      1      1      1      0      1      1      1      1   \n",
      "6         7      1      0      1      1      0      1      1      1      1   \n",
      "7         8      1      1      1      1      0      1      1      1      0   \n",
      "8         9      0      0      0      0      0      0      0      0      0   \n",
      "\n",
      "   prop10  \n",
      "0       1  \n",
      "1       1  \n",
      "2       1  \n",
      "3       1  \n",
      "4       1  \n",
      "5       1  \n",
      "6       1  \n",
      "7       1  \n",
      "8       0  \n"
     ]
    }
   ],
   "source": [
    "print(data)"
   ]
  },
  {
   "cell_type": "code",
   "execution_count": 42,
   "metadata": {},
   "outputs": [],
   "source": [
    "data_frame = pd.DataFrame(index=data.iloc[:,0].index, columns=data.iloc[:,0].index)"
   ]
  },
  {
   "cell_type": "code",
   "execution_count": 43,
   "metadata": {},
   "outputs": [
    {
     "name": "stdout",
     "output_type": "stream",
     "text": [
      "     0    1    2    3    4    5    6    7    8\n",
      "0  NaN  NaN  NaN  NaN  NaN  NaN  NaN  NaN  NaN\n",
      "1  NaN  NaN  NaN  NaN  NaN  NaN  NaN  NaN  NaN\n",
      "2  NaN  NaN  NaN  NaN  NaN  NaN  NaN  NaN  NaN\n",
      "3  NaN  NaN  NaN  NaN  NaN  NaN  NaN  NaN  NaN\n",
      "4  NaN  NaN  NaN  NaN  NaN  NaN  NaN  NaN  NaN\n",
      "5  NaN  NaN  NaN  NaN  NaN  NaN  NaN  NaN  NaN\n",
      "6  NaN  NaN  NaN  NaN  NaN  NaN  NaN  NaN  NaN\n",
      "7  NaN  NaN  NaN  NaN  NaN  NaN  NaN  NaN  NaN\n",
      "8  NaN  NaN  NaN  NaN  NaN  NaN  NaN  NaN  NaN\n"
     ]
    }
   ],
   "source": [
    "print(data_frame)"
   ]
  },
  {
   "cell_type": "code",
   "execution_count": 49,
   "metadata": {},
   "outputs": [
    {
     "name": "stdout",
     "output_type": "stream",
     "text": [
      "prop1     0\n",
      "prop2     0\n",
      "prop3     0\n",
      "prop4     0\n",
      "prop5     0\n",
      "prop6     0\n",
      "prop7     0\n",
      "prop8     0\n",
      "prop9     0\n",
      "prop10    0\n",
      "Name: 8, dtype: int64\n"
     ]
    }
   ],
   "source": [
    "print(data.iloc[8,1:])"
   ]
  },
  {
   "cell_type": "code",
   "execution_count": 45,
   "metadata": {},
   "outputs": [],
   "source": [
    "from scipy.spatial.distance import cosine"
   ]
  },
  {
   "cell_type": "code",
   "execution_count": 46,
   "metadata": {},
   "outputs": [
    {
     "name": "stdout",
     "output_type": "stream",
     "text": [
      "     0    1    2    3    4    5    6    7    8\n",
      "0  NaN  NaN  NaN  NaN  NaN  NaN  NaN  NaN  NaN\n",
      "1  NaN  NaN  NaN  NaN  NaN  NaN  NaN  NaN  NaN\n",
      "2  NaN  NaN  NaN  NaN  NaN  NaN  NaN  NaN  NaN\n",
      "3  NaN  NaN  NaN  NaN  NaN  NaN  NaN  NaN  NaN\n",
      "4  NaN  NaN  NaN  NaN  NaN  NaN  NaN  NaN  NaN\n",
      "5  NaN  NaN  NaN  NaN  NaN  NaN  NaN  NaN  NaN\n",
      "6  NaN  NaN  NaN  NaN  NaN  NaN  NaN  NaN  NaN\n",
      "7  NaN  NaN  NaN  NaN  NaN  NaN  NaN  NaN  NaN\n",
      "8  NaN  NaN  NaN  NaN  NaN  NaN  NaN  NaN  NaN\n"
     ]
    }
   ],
   "source": [
    "print(data_frame)"
   ]
  },
  {
   "cell_type": "code",
   "execution_count": 47,
   "metadata": {},
   "outputs": [],
   "source": [
    "for index in range(0, len(data_frame.index)):\n",
    "    for col in range(0, len(data_frame.columns)):\n",
    "        data_frame.iloc[index, col] = 1 - cosine(data.iloc[index,1:], data.iloc[col,1:])"
   ]
  },
  {
   "cell_type": "code",
   "execution_count": 48,
   "metadata": {},
   "outputs": [
    {
     "name": "stdout",
     "output_type": "stream",
     "text": [
      "          0         1         2         3         4         5         6  \\\n",
      "0         1  0.894427  0.948683         1  0.894427  0.948683  0.894427   \n",
      "1  0.894427         1  0.824958  0.894427      0.75  0.942809         1   \n",
      "2  0.948683  0.824958         1  0.948683  0.942809  0.888889  0.824958   \n",
      "3         1  0.894427  0.948683         1  0.894427  0.948683  0.894427   \n",
      "4  0.894427      0.75  0.942809  0.894427         1  0.824958      0.75   \n",
      "5  0.948683  0.942809  0.888889  0.948683  0.824958         1  0.942809   \n",
      "6  0.894427         1  0.824958  0.894427      0.75  0.942809         1   \n",
      "7  0.894427     0.875  0.824958  0.894427      0.75  0.942809     0.875   \n",
      "8       NaN       NaN       NaN       NaN       NaN       NaN       NaN   \n",
      "\n",
      "          7    8  \n",
      "0  0.894427  NaN  \n",
      "1     0.875  NaN  \n",
      "2  0.824958  NaN  \n",
      "3  0.894427  NaN  \n",
      "4      0.75  NaN  \n",
      "5  0.942809  NaN  \n",
      "6     0.875  NaN  \n",
      "7         1  NaN  \n",
      "8       NaN  NaN  \n"
     ]
    }
   ],
   "source": [
    "print(data_frame)"
   ]
  },
  {
   "cell_type": "code",
   "execution_count": null,
   "metadata": {},
   "outputs": [],
   "source": []
  },
  {
   "cell_type": "code",
   "execution_count": null,
   "metadata": {},
   "outputs": [],
   "source": []
  }
 ],
 "metadata": {
  "kernelspec": {
   "display_name": "Python 3",
   "language": "python",
   "name": "python3"
  },
  "language_info": {
   "codemirror_mode": {
    "name": "ipython",
    "version": 3
   },
   "file_extension": ".py",
   "mimetype": "text/x-python",
   "name": "python",
   "nbconvert_exporter": "python",
   "pygments_lexer": "ipython3",
   "version": "3.7.3"
  }
 },
 "nbformat": 4,
 "nbformat_minor": 2
}
